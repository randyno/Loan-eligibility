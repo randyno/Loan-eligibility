{
 "cells": [
  {
   "cell_type": "markdown",
   "id": "e48d254c-ee93-4f77-a92a-ae1c8bed17c1",
   "metadata": {},
   "source": [
    "# Loan eligibility"
   ]
  },
  {
   "cell_type": "markdown",
   "id": "b3b93371-6ea8-4547-be49-6f3842635fd7",
   "metadata": {},
   "source": [
    "This program aims at predicting whether or not a customer will be eligible to a loan from his bank.\n",
    "\n",
    "We will use two different agorithms : <b>RandomForest and Neural Networks.</b>"
   ]
  },
  {
   "cell_type": "markdown",
   "id": "8c1c327b-68a1-476e-9221-00e7de984f1f",
   "metadata": {},
   "source": [
    "## Imports"
   ]
  },
  {
   "cell_type": "code",
   "execution_count": null,
   "id": "46b197b5-1a04-4050-817e-445095a105c8",
   "metadata": {},
   "outputs": [],
   "source": []
  }
 ],
 "metadata": {
  "kernelspec": {
   "display_name": "Python 3 (ipykernel)",
   "language": "python",
   "name": "python3"
  },
  "language_info": {
   "codemirror_mode": {
    "name": "ipython",
    "version": 3
   },
   "file_extension": ".py",
   "mimetype": "text/x-python",
   "name": "python",
   "nbconvert_exporter": "python",
   "pygments_lexer": "ipython3",
   "version": "3.11.5"
  }
 },
 "nbformat": 4,
 "nbformat_minor": 5
}
